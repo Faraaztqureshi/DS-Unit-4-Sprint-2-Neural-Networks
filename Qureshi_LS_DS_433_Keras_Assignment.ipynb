{
  "nbformat": 4,
  "nbformat_minor": 0,
  "metadata": {
    "colab": {
      "name": "Qureshi_LS_DS_433_Keras_Assignment.ipynb",
      "provenance": [],
      "collapsed_sections": [],
      "toc_visible": true,
      "include_colab_link": true
    },
    "kernelspec": {
      "display_name": "Python 3",
      "language": "python",
      "name": "python3"
    },
    "language_info": {
      "codemirror_mode": {
        "name": "ipython",
        "version": 3
      },
      "file_extension": ".py",
      "mimetype": "text/x-python",
      "name": "python",
      "nbconvert_exporter": "python",
      "pygments_lexer": "ipython3",
      "version": "3.7.3"
    }
  },
  "cells": [
    {
      "cell_type": "markdown",
      "metadata": {
        "id": "view-in-github",
        "colab_type": "text"
      },
      "source": [
        "<a href=\"https://colab.research.google.com/github/Faraaztqureshi/DS-Unit-4-Sprint-2-Neural-Networks/blob/master/Qureshi_LS_DS_433_Keras_Assignment.ipynb\" target=\"_parent\"><img src=\"https://colab.research.google.com/assets/colab-badge.svg\" alt=\"Open In Colab\"/></a>"
      ]
    },
    {
      "cell_type": "markdown",
      "metadata": {
        "colab_type": "text",
        "id": "pBQsZEJmubLs"
      },
      "source": [
        "<img align=\"left\" src=\"https://lever-client-logos.s3.amazonaws.com/864372b1-534c-480e-acd5-9711f850815c-1524247202159.png\" width=200>\n",
        "<br></br>\n",
        "\n",
        "# Neural Network Framework (Keras)\n",
        "\n",
        "## *Data Science Unit 4 Sprint 2 Assignmnet 3*\n",
        "\n",
        "## Use the Keras Library to build a Multi-Layer Perceptron Model on the Boston Housing dataset\n",
        "\n",
        "- The Boston Housing dataset comes with the Keras library so use Keras to import it into your notebook. \n",
        "- Normalize the data (all features should have roughly the same scale)\n",
        "- Import the type of model and layers that you will need from Keras.\n",
        "- Instantiate a model object and use `model.add()` to add layers to your model\n",
        "- Since this is a regression model you will have a single output node in the final layer.\n",
        "- Use activation functions that are appropriate for this task\n",
        "- Compile your model\n",
        "- Fit your model and report its accuracy in terms of Mean Squared Error\n",
        "- Use the history object that is returned from model.fit to make graphs of the model's loss or train/validation accuracies by epoch. \n",
        "- Run this same data through a linear regression model. Which achieves higher accuracy?\n",
        "- Do a little bit of feature engineering and see how that affects your neural network model. (you will need to change your model to accept more inputs)\n",
        "- After feature engineering, which model sees a greater accuracy boost due to the new features?"
      ]
    },
    {
      "cell_type": "code",
      "metadata": {
        "colab_type": "code",
        "id": "8NLTAR87uYJ-",
        "colab": {
          "base_uri": "https://localhost:8080/",
          "height": 204
        },
        "outputId": "1dd440a5-cff5-4dda-87bb-44e9883d8c5f"
      },
      "source": [
        "## get the data\n",
        "import pandas as pd\n",
        "df = pd.read_csv('HousingData.csv')\n",
        "df.head()\n"
      ],
      "execution_count": 2,
      "outputs": [
        {
          "output_type": "execute_result",
          "data": {
            "text/html": [
              "<div>\n",
              "<style scoped>\n",
              "    .dataframe tbody tr th:only-of-type {\n",
              "        vertical-align: middle;\n",
              "    }\n",
              "\n",
              "    .dataframe tbody tr th {\n",
              "        vertical-align: top;\n",
              "    }\n",
              "\n",
              "    .dataframe thead th {\n",
              "        text-align: right;\n",
              "    }\n",
              "</style>\n",
              "<table border=\"1\" class=\"dataframe\">\n",
              "  <thead>\n",
              "    <tr style=\"text-align: right;\">\n",
              "      <th></th>\n",
              "      <th>CRIM</th>\n",
              "      <th>ZN</th>\n",
              "      <th>INDUS</th>\n",
              "      <th>CHAS</th>\n",
              "      <th>NOX</th>\n",
              "      <th>RM</th>\n",
              "      <th>AGE</th>\n",
              "      <th>DIS</th>\n",
              "      <th>RAD</th>\n",
              "      <th>TAX</th>\n",
              "      <th>PTRATIO</th>\n",
              "      <th>B</th>\n",
              "      <th>LSTAT</th>\n",
              "      <th>MEDV</th>\n",
              "    </tr>\n",
              "  </thead>\n",
              "  <tbody>\n",
              "    <tr>\n",
              "      <th>0</th>\n",
              "      <td>0.00632</td>\n",
              "      <td>18.0</td>\n",
              "      <td>2.31</td>\n",
              "      <td>0.0</td>\n",
              "      <td>0.538</td>\n",
              "      <td>6.575</td>\n",
              "      <td>65.2</td>\n",
              "      <td>4.0900</td>\n",
              "      <td>1</td>\n",
              "      <td>296</td>\n",
              "      <td>15.3</td>\n",
              "      <td>396.90</td>\n",
              "      <td>4.98</td>\n",
              "      <td>24.0</td>\n",
              "    </tr>\n",
              "    <tr>\n",
              "      <th>1</th>\n",
              "      <td>0.02731</td>\n",
              "      <td>0.0</td>\n",
              "      <td>7.07</td>\n",
              "      <td>0.0</td>\n",
              "      <td>0.469</td>\n",
              "      <td>6.421</td>\n",
              "      <td>78.9</td>\n",
              "      <td>4.9671</td>\n",
              "      <td>2</td>\n",
              "      <td>242</td>\n",
              "      <td>17.8</td>\n",
              "      <td>396.90</td>\n",
              "      <td>9.14</td>\n",
              "      <td>21.6</td>\n",
              "    </tr>\n",
              "    <tr>\n",
              "      <th>2</th>\n",
              "      <td>0.02729</td>\n",
              "      <td>0.0</td>\n",
              "      <td>7.07</td>\n",
              "      <td>0.0</td>\n",
              "      <td>0.469</td>\n",
              "      <td>7.185</td>\n",
              "      <td>61.1</td>\n",
              "      <td>4.9671</td>\n",
              "      <td>2</td>\n",
              "      <td>242</td>\n",
              "      <td>17.8</td>\n",
              "      <td>392.83</td>\n",
              "      <td>4.03</td>\n",
              "      <td>34.7</td>\n",
              "    </tr>\n",
              "    <tr>\n",
              "      <th>3</th>\n",
              "      <td>0.03237</td>\n",
              "      <td>0.0</td>\n",
              "      <td>2.18</td>\n",
              "      <td>0.0</td>\n",
              "      <td>0.458</td>\n",
              "      <td>6.998</td>\n",
              "      <td>45.8</td>\n",
              "      <td>6.0622</td>\n",
              "      <td>3</td>\n",
              "      <td>222</td>\n",
              "      <td>18.7</td>\n",
              "      <td>394.63</td>\n",
              "      <td>2.94</td>\n",
              "      <td>33.4</td>\n",
              "    </tr>\n",
              "    <tr>\n",
              "      <th>4</th>\n",
              "      <td>0.06905</td>\n",
              "      <td>0.0</td>\n",
              "      <td>2.18</td>\n",
              "      <td>0.0</td>\n",
              "      <td>0.458</td>\n",
              "      <td>7.147</td>\n",
              "      <td>54.2</td>\n",
              "      <td>6.0622</td>\n",
              "      <td>3</td>\n",
              "      <td>222</td>\n",
              "      <td>18.7</td>\n",
              "      <td>396.90</td>\n",
              "      <td>NaN</td>\n",
              "      <td>36.2</td>\n",
              "    </tr>\n",
              "  </tbody>\n",
              "</table>\n",
              "</div>"
            ],
            "text/plain": [
              "      CRIM    ZN  INDUS  CHAS    NOX  ...  TAX  PTRATIO       B  LSTAT  MEDV\n",
              "0  0.00632  18.0   2.31   0.0  0.538  ...  296     15.3  396.90   4.98  24.0\n",
              "1  0.02731   0.0   7.07   0.0  0.469  ...  242     17.8  396.90   9.14  21.6\n",
              "2  0.02729   0.0   7.07   0.0  0.469  ...  242     17.8  392.83   4.03  34.7\n",
              "3  0.03237   0.0   2.18   0.0  0.458  ...  222     18.7  394.63   2.94  33.4\n",
              "4  0.06905   0.0   2.18   0.0  0.458  ...  222     18.7  396.90    NaN  36.2\n",
              "\n",
              "[5 rows x 14 columns]"
            ]
          },
          "metadata": {
            "tags": []
          },
          "execution_count": 2
        }
      ]
    },
    {
      "cell_type": "code",
      "metadata": {
        "id": "VVwhz0OVGixl",
        "colab_type": "code",
        "colab": {
          "base_uri": "https://localhost:8080/",
          "height": 34
        },
        "outputId": "9ab79591-1d67-4960-8f49-02270c7c8e3f"
      },
      "source": [
        "len(df)"
      ],
      "execution_count": 6,
      "outputs": [
        {
          "output_type": "execute_result",
          "data": {
            "text/plain": [
              "506"
            ]
          },
          "metadata": {
            "tags": []
          },
          "execution_count": 6
        }
      ]
    },
    {
      "cell_type": "code",
      "metadata": {
        "id": "9WHh0_T-GWXy",
        "colab_type": "code",
        "colab": {}
      },
      "source": [
        "## check for nulls then drop them\n",
        "df.isnull().sum()\n",
        "df = df.dropna()"
      ],
      "execution_count": 0,
      "outputs": []
    },
    {
      "cell_type": "code",
      "metadata": {
        "id": "YQvPP5ozIWdB",
        "colab_type": "code",
        "colab": {}
      },
      "source": [
        "## features\n",
        "features = ['CRIM', 'ZN', 'INDUS', 'CHAS', 'NOX', 'RM', 'AGE', 'DIS', 'RAD', 'TAX',\n",
        "       'PTRATIO', 'B', 'LSTAT']"
      ],
      "execution_count": 0,
      "outputs": []
    },
    {
      "cell_type": "code",
      "metadata": {
        "id": "uEsYHtDoJgo0",
        "colab_type": "code",
        "colab": {}
      },
      "source": [
        "## target\n",
        "target = ['MEDV']"
      ],
      "execution_count": 0,
      "outputs": []
    },
    {
      "cell_type": "code",
      "metadata": {
        "id": "gNFZUysPLB27",
        "colab_type": "code",
        "colab": {}
      },
      "source": [
        "X = df[features]"
      ],
      "execution_count": 0,
      "outputs": []
    },
    {
      "cell_type": "code",
      "metadata": {
        "id": "CcybpktNLB52",
        "colab_type": "code",
        "colab": {}
      },
      "source": [
        "y = df[target]"
      ],
      "execution_count": 0,
      "outputs": []
    },
    {
      "cell_type": "code",
      "metadata": {
        "id": "ciBJkjWbJlE1",
        "colab_type": "code",
        "colab": {
          "base_uri": "https://localhost:8080/",
          "height": 238
        },
        "outputId": "9a97c2e8-f978-4cb3-b56c-d8786f57f409"
      },
      "source": [
        "## scale the data\n",
        "from sklearn.preprocessing import MinMaxScaler\n",
        "scaler = MinMaxScaler()\n",
        "scaler.fit_transform(X)"
      ],
      "execution_count": 38,
      "outputs": [
        {
          "output_type": "execute_result",
          "data": {
            "text/plain": [
              "array([[0.00000000e+00, 1.80000000e-01, 6.78152493e-02, ...,\n",
              "        2.87234043e-01, 1.00000000e+00, 8.96799117e-02],\n",
              "       [2.35922539e-04, 0.00000000e+00, 2.42302053e-01, ...,\n",
              "        5.53191489e-01, 1.00000000e+00, 2.04470199e-01],\n",
              "       [2.35697744e-04, 0.00000000e+00, 2.42302053e-01, ...,\n",
              "        5.53191489e-01, 9.89677910e-01, 6.34657837e-02],\n",
              "       ...,\n",
              "       [4.37788609e-04, 0.00000000e+00, 4.20454545e-01, ...,\n",
              "        8.93617021e-01, 1.00000000e+00, 2.02814570e-01],\n",
              "       [6.11892474e-04, 0.00000000e+00, 4.20454545e-01, ...,\n",
              "        8.93617021e-01, 1.00000000e+00, 1.07891832e-01],\n",
              "       [1.16072990e-03, 0.00000000e+00, 4.20454545e-01, ...,\n",
              "        8.93617021e-01, 9.91250317e-01, 1.31070640e-01]])"
            ]
          },
          "metadata": {
            "tags": []
          },
          "execution_count": 38
        }
      ]
    },
    {
      "cell_type": "code",
      "metadata": {
        "id": "E58oFvifMXK2",
        "colab_type": "code",
        "colab": {
          "base_uri": "https://localhost:8080/",
          "height": 34
        },
        "outputId": "ccf6d334-9bf8-4561-d87d-456b2a831b6d"
      },
      "source": [
        "len(features)"
      ],
      "execution_count": 41,
      "outputs": [
        {
          "output_type": "execute_result",
          "data": {
            "text/plain": [
              "13"
            ]
          },
          "metadata": {
            "tags": []
          },
          "execution_count": 41
        }
      ]
    },
    {
      "cell_type": "code",
      "metadata": {
        "id": "4mnXY8rBNVqR",
        "colab_type": "code",
        "colab": {}
      },
      "source": [
        "## put X and y into arrays\n",
        "X = X.values\n",
        "y = y.values"
      ],
      "execution_count": 0,
      "outputs": []
    },
    {
      "cell_type": "code",
      "metadata": {
        "id": "fu8MesuEJlHo",
        "colab_type": "code",
        "colab": {}
      },
      "source": [
        "## tensorflow imports\n",
        "import tensorflow as tf\n",
        "from tensorflow import keras\n",
        "from keras import Sequential\n",
        "from keras.layers import Dense"
      ],
      "execution_count": 0,
      "outputs": []
    },
    {
      "cell_type": "code",
      "metadata": {
        "id": "I8LJiJ43JlJ5",
        "colab_type": "code",
        "colab": {
          "base_uri": "https://localhost:8080/",
          "height": 105
        },
        "outputId": "fe42ee74-f097-4435-c90c-cf305315df59"
      },
      "source": [
        "#build our model\n",
        "## build a model going in order from input layer --> hidden --> output\n",
        "model = Sequential()\n",
        "## dense means every node is connected to every other node\n",
        "model.add(Dense(13, activation='relu'))\n",
        "model.add(Dense(8, activation='relu'))\n",
        "model.add(Dense(8, activation='relu'))\n",
        "model.add(Dense(1))\n",
        "\n",
        "model.compile(loss='mean_squared_error', optimizer='adam')"
      ],
      "execution_count": 45,
      "outputs": [
        {
          "output_type": "stream",
          "text": [
            "WARNING:tensorflow:From /usr/local/lib/python3.6/dist-packages/keras/backend/tensorflow_backend.py:66: The name tf.get_default_graph is deprecated. Please use tf.compat.v1.get_default_graph instead.\n",
            "\n",
            "WARNING:tensorflow:From /usr/local/lib/python3.6/dist-packages/keras/optimizers.py:793: The name tf.train.Optimizer is deprecated. Please use tf.compat.v1.train.Optimizer instead.\n",
            "\n"
          ],
          "name": "stdout"
        }
      ]
    },
    {
      "cell_type": "code",
      "metadata": {
        "id": "mkSVrHIeJlMg",
        "colab_type": "code",
        "colab": {
          "base_uri": "https://localhost:8080/",
          "height": 1000
        },
        "outputId": "579288a0-0c03-48e0-fc3c-8789553e4195"
      },
      "source": [
        "## save 20 items to test\n",
        "# Train the model\n",
        "model.fit(\n",
        "    X[20:],\n",
        "    y[20:],\n",
        "    epochs=50,\n",
        "    shuffle=True,\n",
        "    verbose=1\n",
        ")"
      ],
      "execution_count": 47,
      "outputs": [
        {
          "output_type": "stream",
          "text": [
            "WARNING:tensorflow:From /usr/local/lib/python3.6/dist-packages/keras/backend/tensorflow_backend.py:541: The name tf.placeholder is deprecated. Please use tf.compat.v1.placeholder instead.\n",
            "\n",
            "WARNING:tensorflow:From /usr/local/lib/python3.6/dist-packages/keras/backend/tensorflow_backend.py:4432: The name tf.random_uniform is deprecated. Please use tf.random.uniform instead.\n",
            "\n",
            "WARNING:tensorflow:From /usr/local/lib/python3.6/dist-packages/keras/backend/tensorflow_backend.py:1033: The name tf.assign_add is deprecated. Please use tf.compat.v1.assign_add instead.\n",
            "\n",
            "WARNING:tensorflow:From /usr/local/lib/python3.6/dist-packages/keras/backend/tensorflow_backend.py:1020: The name tf.assign is deprecated. Please use tf.compat.v1.assign instead.\n",
            "\n",
            "WARNING:tensorflow:From /usr/local/lib/python3.6/dist-packages/keras/backend/tensorflow_backend.py:3005: The name tf.Session is deprecated. Please use tf.compat.v1.Session instead.\n",
            "\n",
            "Epoch 1/50\n",
            "WARNING:tensorflow:From /usr/local/lib/python3.6/dist-packages/keras/backend/tensorflow_backend.py:190: The name tf.get_default_session is deprecated. Please use tf.compat.v1.get_default_session instead.\n",
            "\n",
            "WARNING:tensorflow:From /usr/local/lib/python3.6/dist-packages/keras/backend/tensorflow_backend.py:197: The name tf.ConfigProto is deprecated. Please use tf.compat.v1.ConfigProto instead.\n",
            "\n",
            "WARNING:tensorflow:From /usr/local/lib/python3.6/dist-packages/keras/backend/tensorflow_backend.py:207: The name tf.global_variables is deprecated. Please use tf.compat.v1.global_variables instead.\n",
            "\n",
            "WARNING:tensorflow:From /usr/local/lib/python3.6/dist-packages/keras/backend/tensorflow_backend.py:216: The name tf.is_variable_initialized is deprecated. Please use tf.compat.v1.is_variable_initialized instead.\n",
            "\n",
            "WARNING:tensorflow:From /usr/local/lib/python3.6/dist-packages/keras/backend/tensorflow_backend.py:223: The name tf.variables_initializer is deprecated. Please use tf.compat.v1.variables_initializer instead.\n",
            "\n",
            "374/374 [==============================] - 1s 2ms/step - loss: 102.4880\n",
            "Epoch 2/50\n",
            "374/374 [==============================] - 0s 40us/step - loss: 72.4726\n",
            "Epoch 3/50\n",
            "374/374 [==============================] - 0s 40us/step - loss: 63.7749\n",
            "Epoch 4/50\n",
            "374/374 [==============================] - 0s 40us/step - loss: 61.0259\n",
            "Epoch 5/50\n",
            "374/374 [==============================] - 0s 41us/step - loss: 60.3677\n",
            "Epoch 6/50\n",
            "374/374 [==============================] - 0s 55us/step - loss: 58.4815\n",
            "Epoch 7/50\n",
            "374/374 [==============================] - 0s 45us/step - loss: 57.5684\n",
            "Epoch 8/50\n",
            "374/374 [==============================] - 0s 52us/step - loss: 57.0388\n",
            "Epoch 9/50\n",
            "374/374 [==============================] - 0s 44us/step - loss: 56.0893\n",
            "Epoch 10/50\n",
            "374/374 [==============================] - 0s 42us/step - loss: 55.6282\n",
            "Epoch 11/50\n",
            "374/374 [==============================] - 0s 53us/step - loss: 54.9170\n",
            "Epoch 12/50\n",
            "374/374 [==============================] - 0s 42us/step - loss: 54.1599\n",
            "Epoch 13/50\n",
            "374/374 [==============================] - 0s 51us/step - loss: 53.8482\n",
            "Epoch 14/50\n",
            "374/374 [==============================] - 0s 48us/step - loss: 53.5978\n",
            "Epoch 15/50\n",
            "374/374 [==============================] - 0s 39us/step - loss: 53.3143\n",
            "Epoch 16/50\n",
            "374/374 [==============================] - 0s 44us/step - loss: 52.2020\n",
            "Epoch 17/50\n",
            "374/374 [==============================] - 0s 40us/step - loss: 51.7028\n",
            "Epoch 18/50\n",
            "374/374 [==============================] - 0s 47us/step - loss: 51.2017\n",
            "Epoch 19/50\n",
            "374/374 [==============================] - 0s 40us/step - loss: 51.1405\n",
            "Epoch 20/50\n",
            "374/374 [==============================] - 0s 52us/step - loss: 52.9322\n",
            "Epoch 21/50\n",
            "374/374 [==============================] - 0s 58us/step - loss: 51.0310\n",
            "Epoch 22/50\n",
            "374/374 [==============================] - 0s 42us/step - loss: 50.0396\n",
            "Epoch 23/50\n",
            "374/374 [==============================] - 0s 43us/step - loss: 50.3082\n",
            "Epoch 24/50\n",
            "374/374 [==============================] - 0s 44us/step - loss: 49.0982\n",
            "Epoch 25/50\n",
            "374/374 [==============================] - 0s 41us/step - loss: 48.6078\n",
            "Epoch 26/50\n",
            "374/374 [==============================] - 0s 47us/step - loss: 48.9073\n",
            "Epoch 27/50\n",
            "374/374 [==============================] - 0s 50us/step - loss: 48.2279\n",
            "Epoch 28/50\n",
            "374/374 [==============================] - 0s 45us/step - loss: 47.6613\n",
            "Epoch 29/50\n",
            "374/374 [==============================] - 0s 40us/step - loss: 47.2919\n",
            "Epoch 30/50\n",
            "374/374 [==============================] - 0s 48us/step - loss: 46.7243\n",
            "Epoch 31/50\n",
            "374/374 [==============================] - 0s 41us/step - loss: 47.1925\n",
            "Epoch 32/50\n",
            "374/374 [==============================] - 0s 56us/step - loss: 46.8987\n",
            "Epoch 33/50\n",
            "374/374 [==============================] - 0s 48us/step - loss: 46.4822\n",
            "Epoch 34/50\n",
            "374/374 [==============================] - 0s 42us/step - loss: 45.7024\n",
            "Epoch 35/50\n",
            "374/374 [==============================] - 0s 46us/step - loss: 45.2171\n",
            "Epoch 36/50\n",
            "374/374 [==============================] - 0s 43us/step - loss: 45.6286\n",
            "Epoch 37/50\n",
            "374/374 [==============================] - 0s 41us/step - loss: 44.3381\n",
            "Epoch 38/50\n",
            "374/374 [==============================] - 0s 46us/step - loss: 44.0529\n",
            "Epoch 39/50\n",
            "374/374 [==============================] - 0s 40us/step - loss: 44.1210\n",
            "Epoch 40/50\n",
            "374/374 [==============================] - 0s 45us/step - loss: 45.1931\n",
            "Epoch 41/50\n",
            "374/374 [==============================] - 0s 43us/step - loss: 44.9111\n",
            "Epoch 42/50\n",
            "374/374 [==============================] - 0s 42us/step - loss: 42.6378\n",
            "Epoch 43/50\n",
            "374/374 [==============================] - 0s 42us/step - loss: 42.4875\n",
            "Epoch 44/50\n",
            "374/374 [==============================] - 0s 47us/step - loss: 42.1495\n",
            "Epoch 45/50\n",
            "374/374 [==============================] - 0s 60us/step - loss: 41.8584\n",
            "Epoch 46/50\n",
            "374/374 [==============================] - 0s 41us/step - loss: 41.9032\n",
            "Epoch 47/50\n",
            "374/374 [==============================] - 0s 40us/step - loss: 41.0640\n",
            "Epoch 48/50\n",
            "374/374 [==============================] - 0s 43us/step - loss: 41.1085\n",
            "Epoch 49/50\n",
            "374/374 [==============================] - 0s 47us/step - loss: 40.7004\n",
            "Epoch 50/50\n",
            "374/374 [==============================] - 0s 56us/step - loss: 39.8448\n"
          ],
          "name": "stdout"
        },
        {
          "output_type": "execute_result",
          "data": {
            "text/plain": [
              "<keras.callbacks.History at 0x7f2ef8b7ba90>"
            ]
          },
          "metadata": {
            "tags": []
          },
          "execution_count": 47
        }
      ]
    },
    {
      "cell_type": "code",
      "metadata": {
        "id": "AszwR41fOInZ",
        "colab_type": "code",
        "colab": {
          "base_uri": "https://localhost:8080/",
          "height": 34
        },
        "outputId": "e35456ce-f930-42bd-d0a4-c252dd35ef79"
      },
      "source": [
        "## make a prediction\n",
        "prediction = model.predict(X[:1])\n",
        "prediction"
      ],
      "execution_count": 49,
      "outputs": [
        {
          "output_type": "execute_result",
          "data": {
            "text/plain": [
              "array([[26.18415]], dtype=float32)"
            ]
          },
          "metadata": {
            "tags": []
          },
          "execution_count": 49
        }
      ]
    },
    {
      "cell_type": "code",
      "metadata": {
        "id": "ut_XI_BnOIqb",
        "colab_type": "code",
        "colab": {
          "base_uri": "https://localhost:8080/",
          "height": 34
        },
        "outputId": "05540c04-2b91-478b-8a8c-894b13d55d85"
      },
      "source": [
        "y[:1]"
      ],
      "execution_count": 50,
      "outputs": [
        {
          "output_type": "execute_result",
          "data": {
            "text/plain": [
              "array([[24.]])"
            ]
          },
          "metadata": {
            "tags": []
          },
          "execution_count": 50
        }
      ]
    },
    {
      "cell_type": "code",
      "metadata": {
        "id": "0D1OxvFmOIth",
        "colab_type": "code",
        "colab": {
          "base_uri": "https://localhost:8080/",
          "height": 34
        },
        "outputId": "58b18915-bbc5-49de-9900-0478ba1fbb83"
      },
      "source": [
        "## check overall error\n",
        "test_error_rate = model.evaluate(X[:20], y[:20], verbose=0)\n",
        "print(\"The mean squared error (MSE) for the test data set is: {}\".format(test_error_rate))"
      ],
      "execution_count": 51,
      "outputs": [
        {
          "output_type": "stream",
          "text": [
            "The mean squared error (MSE) for the test data set is: 18.50971031188965\n"
          ],
          "name": "stdout"
        }
      ]
    },
    {
      "cell_type": "code",
      "metadata": {
        "id": "RTW-ibS0P4X6",
        "colab_type": "code",
        "colab": {
          "base_uri": "https://localhost:8080/",
          "height": 34
        },
        "outputId": "151685cb-c17a-454c-ce9e-2118d8c4d5a0"
      },
      "source": [
        "from sklearn.linear_model import LinearRegression\n",
        "linear_regressor = LinearRegression()  # create object for the class\n",
        "linear_regressor.fit(X, y)  # perform linear regression"
      ],
      "execution_count": 52,
      "outputs": [
        {
          "output_type": "execute_result",
          "data": {
            "text/plain": [
              "LinearRegression(copy_X=True, fit_intercept=True, n_jobs=None, normalize=False)"
            ]
          },
          "metadata": {
            "tags": []
          },
          "execution_count": 52
        }
      ]
    },
    {
      "cell_type": "code",
      "metadata": {
        "id": "36I8vf3JP4d3",
        "colab_type": "code",
        "colab": {}
      },
      "source": [
        "y_predictions = linear_regressor.predict(X)"
      ],
      "execution_count": 0,
      "outputs": []
    },
    {
      "cell_type": "code",
      "metadata": {
        "id": "eZVE7lysP4gh",
        "colab_type": "code",
        "colab": {
          "base_uri": "https://localhost:8080/",
          "height": 34
        },
        "outputId": "71132f92-2a0a-4b0a-8fe9-44c406b05b02"
      },
      "source": [
        "from sklearn.metrics import mean_squared_error\n",
        "mean_squared_error(y, y_predictions)"
      ],
      "execution_count": 54,
      "outputs": [
        {
          "output_type": "execute_result",
          "data": {
            "text/plain": [
              "19.418397930734912"
            ]
          },
          "metadata": {
            "tags": []
          },
          "execution_count": 54
        }
      ]
    },
    {
      "cell_type": "code",
      "metadata": {
        "id": "kGlh2aYSP4js",
        "colab_type": "code",
        "colab": {}
      },
      "source": [
        ""
      ],
      "execution_count": 0,
      "outputs": []
    },
    {
      "cell_type": "markdown",
      "metadata": {
        "colab_type": "text",
        "id": "SfcFnOONyuNm"
      },
      "source": [
        "## Use the Keras Library to build an image recognition network using the Fashion-MNIST dataset (also comes with keras)\n",
        "\n",
        "- Load and preprocess the image data similar to how we preprocessed the MNIST data in class.\n",
        "- Make sure to one-hot encode your category labels\n",
        "- Make sure to have your final layer have as many nodes as the number of classes that you want to predict.\n",
        "- Try different hyperparameters. What is the highest accuracy that you are able to achieve.\n",
        "- Use the history object that is returned from model.fit to make graphs of the model's loss or train/validation accuracies by epoch. \n",
        "- Remember that neural networks fall prey to randomness so you may need to run your model multiple times (or use Cross Validation) in order to tell if a change to a hyperparameter is truly producing better results."
      ]
    },
    {
      "cell_type": "code",
      "metadata": {
        "colab_type": "code",
        "id": "szi6-IpuzaH1",
        "colab": {}
      },
      "source": [
        "## import libraries\n",
        "import tensorflow as tf\n",
        "from tensorflow import keras\n",
        "import numpy as np\n",
        "import matplotlib.pyplot as plt\n"
      ],
      "execution_count": 0,
      "outputs": []
    },
    {
      "cell_type": "code",
      "metadata": {
        "id": "Twr9HPGKRLLJ",
        "colab_type": "code",
        "colab": {}
      },
      "source": [
        "## import the data\n",
        "data = keras.datasets.fashion_mnist"
      ],
      "execution_count": 0,
      "outputs": []
    },
    {
      "cell_type": "code",
      "metadata": {
        "id": "Pm4qU8CJRLN2",
        "colab_type": "code",
        "colab": {
          "base_uri": "https://localhost:8080/",
          "height": 173
        },
        "outputId": "e502e181-62df-46be-8df5-0d038e2429e5"
      },
      "source": [
        "## separate into training and testing\n",
        "(train_images, train_labels), (test_images, test_labels) = data.load_data()"
      ],
      "execution_count": 57,
      "outputs": [
        {
          "output_type": "stream",
          "text": [
            "Downloading data from https://storage.googleapis.com/tensorflow/tf-keras-datasets/train-labels-idx1-ubyte.gz\n",
            "32768/29515 [=================================] - 0s 0us/step\n",
            "Downloading data from https://storage.googleapis.com/tensorflow/tf-keras-datasets/train-images-idx3-ubyte.gz\n",
            "26427392/26421880 [==============================] - 0s 0us/step\n",
            "Downloading data from https://storage.googleapis.com/tensorflow/tf-keras-datasets/t10k-labels-idx1-ubyte.gz\n",
            "8192/5148 [===============================================] - 0s 0us/step\n",
            "Downloading data from https://storage.googleapis.com/tensorflow/tf-keras-datasets/t10k-images-idx3-ubyte.gz\n",
            "4423680/4422102 [==============================] - 0s 0us/step\n"
          ],
          "name": "stdout"
        }
      ]
    },
    {
      "cell_type": "code",
      "metadata": {
        "id": "cGAmhC8zRLQS",
        "colab_type": "code",
        "colab": {
          "base_uri": "https://localhost:8080/",
          "height": 34
        },
        "outputId": "4428263a-9b02-465b-d260-f5def96b8d27"
      },
      "source": [
        "## labels are 0-9 and correspond to specific classes\n",
        "print(train_labels[0])"
      ],
      "execution_count": 58,
      "outputs": [
        {
          "output_type": "stream",
          "text": [
            "9\n"
          ],
          "name": "stdout"
        }
      ]
    },
    {
      "cell_type": "code",
      "metadata": {
        "id": "cUuNEOPoRLSo",
        "colab_type": "code",
        "colab": {}
      },
      "source": [
        "## these class names and thier order comes from the data\n",
        "## 9 the first training label from above corresponds with tshirt/top\n",
        "class_names = ['T-shirt/top', 'Trouser', 'Pullover', 'Dress', 'Coat',\n",
        "               'Sandal', 'Shirt', 'Sneaker', 'Bag', 'Ankle boot']"
      ],
      "execution_count": 0,
      "outputs": []
    },
    {
      "cell_type": "code",
      "metadata": {
        "id": "mHV-P59qRLWL",
        "colab_type": "code",
        "colab": {
          "base_uri": "https://localhost:8080/",
          "height": 34
        },
        "outputId": "c5be6718-ae48-401a-9c41-a3b4f2bd4a7a"
      },
      "source": [
        "## verify I have 10 classes\n",
        "len(class_names)"
      ],
      "execution_count": 60,
      "outputs": [
        {
          "output_type": "execute_result",
          "data": {
            "text/plain": [
              "10"
            ]
          },
          "metadata": {
            "tags": []
          },
          "execution_count": 60
        }
      ]
    },
    {
      "cell_type": "code",
      "metadata": {
        "id": "lOMNMb4mRqXY",
        "colab_type": "code",
        "colab": {
          "base_uri": "https://localhost:8080/",
          "height": 282
        },
        "outputId": "b7521017-bcd0-467a-8d90-d5dbe6014511"
      },
      "source": [
        "## to show images\n",
        "plt.imshow(train_images[7])"
      ],
      "execution_count": 61,
      "outputs": [
        {
          "output_type": "execute_result",
          "data": {
            "text/plain": [
              "<matplotlib.image.AxesImage at 0x7f2ef19e2f28>"
            ]
          },
          "metadata": {
            "tags": []
          },
          "execution_count": 61
        },
        {
          "output_type": "display_data",
          "data": {
            "image/png": "[encoded data removed]",
            "text/plain": [
              "<Figure size 432x288 with 1 Axes>"
            ]
          },
          "metadata": {
            "tags": []
          }
        }
      ]
    },
    {
      "cell_type": "code",
      "metadata": {
        "id": "rS_n03MIRqaU",
        "colab_type": "code",
        "colab": {
          "base_uri": "https://localhost:8080/",
          "height": 34
        },
        "outputId": "9d42143e-f00b-4ce9-8f1e-6b71753f9f85"
      },
      "source": [
        "## check for number of inputs\n",
        "28 * 28"
      ],
      "execution_count": 62,
      "outputs": [
        {
          "output_type": "execute_result",
          "data": {
            "text/plain": [
              "784"
            ]
          },
          "metadata": {
            "tags": []
          },
          "execution_count": 62
        }
      ]
    },
    {
      "cell_type": "code",
      "metadata": {
        "id": "baBF2yeDRqdH",
        "colab_type": "code",
        "colab": {}
      },
      "source": [
        "## we can do this each images is 28 x 28 array because 0 white 255 black\n",
        "## normalize the 28 x 28 array\n",
        "train_images = train_images/ 255"
      ],
      "execution_count": 0,
      "outputs": []
    },
    {
      "cell_type": "code",
      "metadata": {
        "id": "ZsQ-fGRcRqhT",
        "colab_type": "code",
        "colab": {
          "base_uri": "https://localhost:8080/",
          "height": 34
        },
        "outputId": "c5847117-baa0-474a-f3cb-24e4a5f98abe"
      },
      "source": [
        "## start with 20% of inputs as hidden layer\n",
        ".2 * 784"
      ],
      "execution_count": 64,
      "outputs": [
        {
          "output_type": "execute_result",
          "data": {
            "text/plain": [
              "156.8"
            ]
          },
          "metadata": {
            "tags": []
          },
          "execution_count": 64
        }
      ]
    },
    {
      "cell_type": "code",
      "metadata": {
        "id": "IQpxJ6q7Rqkj",
        "colab_type": "code",
        "colab": {
          "base_uri": "https://localhost:8080/",
          "height": 88
        },
        "outputId": "916487e4-290f-424c-f706-f0fe0018ff87"
      },
      "source": [
        "## define the architechture of our model\n",
        "## the sequential means ordered layers input-->hidden-->output\n",
        "model = keras.Sequential([\n",
        "    ## flattens the input array (if 2d or 3d array)\n",
        "    keras.layers.Flatten(input_shape=(28, 28)),\n",
        "    ## dense layer means each neuron is connected to other neurons (fully connected)\n",
        "    ## this is for the hidden layer\n",
        "    keras.layers.Dense(157, activation='relu'),\n",
        "    ## next is the output layer\n",
        "    ## softmax picks values for each neuron that will add up to one (probability)\n",
        "    keras.layers.Dense(10, activation='softmax')\n",
        "    ])\n",
        "\n",
        "## model parameters\n",
        "model.compile(optimizer='adam', loss=\"sparse_categorical_crossentropy\", metrics=['accuracy'])"
      ],
      "execution_count": 65,
      "outputs": [
        {
          "output_type": "stream",
          "text": [
            "WARNING:tensorflow:From /usr/local/lib/python3.6/dist-packages/tensorflow_core/python/ops/resource_variable_ops.py:1630: calling BaseResourceVariable.__init__ (from tensorflow.python.ops.resource_variable_ops) with constraint is deprecated and will be removed in a future version.\n",
            "Instructions for updating:\n",
            "If using Keras pass *_constraint arguments to layers.\n"
          ],
          "name": "stdout"
        }
      ]
    },
    {
      "cell_type": "code",
      "metadata": {
        "id": "1zQxM6UBSh_4",
        "colab_type": "code",
        "colab": {
          "base_uri": "https://localhost:8080/",
          "height": 578
        },
        "outputId": "3d014bac-fa5f-4588-f1b1-c0c8f3a240b3"
      },
      "source": [
        "## fit the model, epochs is how many times model sees images\n",
        "## tweaks the order in which images are viewed\n",
        "model.fit(train_images, train_labels, epochs=15)\n",
        "\n",
        "test_loss, test_acc = model.evaluate(test_images, test_labels)\n",
        "print(\"Tested Acc: \", test_acc)"
      ],
      "execution_count": 66,
      "outputs": [
        {
          "output_type": "stream",
          "text": [
            "Train on 60000 samples\n",
            "Epoch 1/15\n",
            "60000/60000 [==============================] - 4s 70us/sample - loss: 0.4945 - acc: 0.8258\n",
            "Epoch 2/15\n",
            "60000/60000 [==============================] - 4s 68us/sample - loss: 0.3699 - acc: 0.8653\n",
            "Epoch 3/15\n",
            "60000/60000 [==============================] - 4s 68us/sample - loss: 0.3299 - acc: 0.8801\n",
            "Epoch 4/15\n",
            "60000/60000 [==============================] - 4s 69us/sample - loss: 0.3065 - acc: 0.8878\n",
            "Epoch 5/15\n",
            "60000/60000 [==============================] - 4s 69us/sample - loss: 0.2896 - acc: 0.8923\n",
            "Epoch 6/15\n",
            "60000/60000 [==============================] - 4s 69us/sample - loss: 0.2746 - acc: 0.8981\n",
            "Epoch 7/15\n",
            "60000/60000 [==============================] - 4s 70us/sample - loss: 0.2640 - acc: 0.9013\n",
            "Epoch 8/15\n",
            "60000/60000 [==============================] - 4s 69us/sample - loss: 0.2528 - acc: 0.9056\n",
            "Epoch 9/15\n",
            "60000/60000 [==============================] - 4s 69us/sample - loss: 0.2437 - acc: 0.9083\n",
            "Epoch 10/15\n",
            "60000/60000 [==============================] - 4s 69us/sample - loss: 0.2336 - acc: 0.9129\n",
            "Epoch 11/15\n",
            "60000/60000 [==============================] - 4s 69us/sample - loss: 0.2263 - acc: 0.9155\n",
            "Epoch 12/15\n",
            "60000/60000 [==============================] - 4s 69us/sample - loss: 0.2188 - acc: 0.9176\n",
            "Epoch 13/15\n",
            "60000/60000 [==============================] - 4s 69us/sample - loss: 0.2113 - acc: 0.9204\n",
            "Epoch 14/15\n",
            "60000/60000 [==============================] - 4s 70us/sample - loss: 0.2055 - acc: 0.9225\n",
            "Epoch 15/15\n",
            "60000/60000 [==============================] - 4s 69us/sample - loss: 0.1964 - acc: 0.9255\n",
            "10000/10000 [==============================] - 0s 38us/sample - loss: 65.2903 - acc: 0.8718\n",
            "Tested Acc:  0.8718\n"
          ],
          "name": "stdout"
        }
      ]
    },
    {
      "cell_type": "code",
      "metadata": {
        "id": "qMmvBH0tTtRv",
        "colab_type": "code",
        "colab": {
          "base_uri": "https://localhost:8080/",
          "height": 34
        },
        "outputId": "476af9ac-63cb-4865-e9ba-7f472e07d101"
      },
      "source": [
        "## lets double the hidden layer\n",
        "157 * 2"
      ],
      "execution_count": 67,
      "outputs": [
        {
          "output_type": "execute_result",
          "data": {
            "text/plain": [
              "314"
            ]
          },
          "metadata": {
            "tags": []
          },
          "execution_count": 67
        }
      ]
    },
    {
      "cell_type": "code",
      "metadata": {
        "id": "o5IbecYQSiCk",
        "colab_type": "code",
        "colab": {}
      },
      "source": [
        "## I want to run the same test as above but widen my hidden layer\n",
        "\n",
        "model = keras.Sequential([\n",
        "    keras.layers.Flatten(input_shape=(28, 28)),\n",
        "    keras.layers.Dense(314, activation='relu'),\n",
        "    keras.layers.Dense(10, activation='softmax')\n",
        "    ])\n",
        "\n",
        "## model parameters\n",
        "model.compile(optimizer='adam', loss=\"sparse_categorical_crossentropy\", metrics=['accuracy'])"
      ],
      "execution_count": 0,
      "outputs": []
    },
    {
      "cell_type": "code",
      "metadata": {
        "id": "pQbTaTlLSiFa",
        "colab_type": "code",
        "colab": {
          "base_uri": "https://localhost:8080/",
          "height": 578
        },
        "outputId": "d48aa461-ebf1-43e8-fe50-18663c034769"
      },
      "source": [
        "## fit the model\n",
        "model.fit(train_images, train_labels, epochs=15)\n",
        "\n",
        "test_loss, test_acc = model.evaluate(test_images, test_labels)\n",
        "print(\"Tested Acc: \", test_acc)"
      ],
      "execution_count": 70,
      "outputs": [
        {
          "output_type": "stream",
          "text": [
            "Train on 60000 samples\n",
            "Epoch 1/15\n",
            "60000/60000 [==============================] - 5s 90us/sample - loss: 0.1840 - acc: 0.9297\n",
            "Epoch 2/15\n",
            "60000/60000 [==============================] - 5s 91us/sample - loss: 0.1768 - acc: 0.9340\n",
            "Epoch 3/15\n",
            "60000/60000 [==============================] - 5s 91us/sample - loss: 0.1719 - acc: 0.9349\n",
            "Epoch 4/15\n",
            "60000/60000 [==============================] - 5s 91us/sample - loss: 0.1667 - acc: 0.9376\n",
            "Epoch 5/15\n",
            "60000/60000 [==============================] - 5s 89us/sample - loss: 0.1625 - acc: 0.9385\n",
            "Epoch 6/15\n",
            "60000/60000 [==============================] - 5s 90us/sample - loss: 0.1572 - acc: 0.9419\n",
            "Epoch 7/15\n",
            "60000/60000 [==============================] - 5s 91us/sample - loss: 0.1554 - acc: 0.9418\n",
            "Epoch 8/15\n",
            "60000/60000 [==============================] - 5s 90us/sample - loss: 0.1502 - acc: 0.9429\n",
            "Epoch 9/15\n",
            "60000/60000 [==============================] - 5s 90us/sample - loss: 0.1466 - acc: 0.9450\n",
            "Epoch 10/15\n",
            "60000/60000 [==============================] - 5s 91us/sample - loss: 0.1406 - acc: 0.9470\n",
            "Epoch 11/15\n",
            "60000/60000 [==============================] - 5s 89us/sample - loss: 0.1395 - acc: 0.9471\n",
            "Epoch 12/15\n",
            "60000/60000 [==============================] - 5s 89us/sample - loss: 0.1371 - acc: 0.9477\n",
            "Epoch 13/15\n",
            "60000/60000 [==============================] - 5s 91us/sample - loss: 0.1316 - acc: 0.9500\n",
            "Epoch 14/15\n",
            "60000/60000 [==============================] - 6s 95us/sample - loss: 0.1295 - acc: 0.9521\n",
            "Epoch 15/15\n",
            "60000/60000 [==============================] - 6s 95us/sample - loss: 0.1263 - acc: 0.9521\n",
            "10000/10000 [==============================] - 0s 43us/sample - loss: 96.7311 - acc: 0.8739\n",
            "Tested Acc:  0.8739\n"
          ],
          "name": "stdout"
        }
      ]
    },
    {
      "cell_type": "code",
      "metadata": {
        "id": "5vkw3EkSVFVE",
        "colab_type": "code",
        "colab": {
          "base_uri": "https://localhost:8080/",
          "height": 34
        },
        "outputId": "180b7b53-1644-4123-c04e-b29d5d7be1fe"
      },
      "source": [
        ".66 * 784"
      ],
      "execution_count": 72,
      "outputs": [
        {
          "output_type": "execute_result",
          "data": {
            "text/plain": [
              "517.44"
            ]
          },
          "metadata": {
            "tags": []
          },
          "execution_count": 72
        }
      ]
    },
    {
      "cell_type": "code",
      "metadata": {
        "id": "6NzxmCXQU6IS",
        "colab_type": "code",
        "colab": {}
      },
      "source": [
        "## widen the hidden layer to 2/3 input layer\n",
        "## change optimizer to nadam\n",
        "model = keras.Sequential([\n",
        "    keras.layers.Flatten(input_shape=(28, 28)),\n",
        "    keras.layers.Dense(518, activation='relu'),\n",
        "    keras.layers.Dense(10, activation='softmax')\n",
        "    ])\n",
        "\n",
        "## model parameters\n",
        "model.compile(optimizer='nadam', loss=\"sparse_categorical_crossentropy\", metrics=['accuracy'])"
      ],
      "execution_count": 0,
      "outputs": []
    },
    {
      "cell_type": "code",
      "metadata": {
        "id": "7zNME6SdVSD6",
        "colab_type": "code",
        "colab": {
          "base_uri": "https://localhost:8080/",
          "height": 578
        },
        "outputId": "cca09095-ba31-4af1-c1b0-2af9eba9e66f"
      },
      "source": [
        "## fit the model\n",
        "model.fit(train_images, train_labels, epochs=15)\n",
        "\n",
        "test_loss, test_acc = model.evaluate(test_images, test_labels)\n",
        "print(\"Tested Acc: \", test_acc)"
      ],
      "execution_count": 74,
      "outputs": [
        {
          "output_type": "stream",
          "text": [
            "Train on 60000 samples\n",
            "Epoch 1/15\n",
            "60000/60000 [==============================] - 13s 221us/sample - loss: 0.4665 - acc: 0.8330\n",
            "Epoch 2/15\n",
            "60000/60000 [==============================] - 13s 223us/sample - loss: 0.3467 - acc: 0.8722\n",
            "Epoch 3/15\n",
            "60000/60000 [==============================] - 13s 222us/sample - loss: 0.3092 - acc: 0.8867\n",
            "Epoch 4/15\n",
            "60000/60000 [==============================] - 13s 224us/sample - loss: 0.2901 - acc: 0.8928\n",
            "Epoch 5/15\n",
            "60000/60000 [==============================] - 13s 223us/sample - loss: 0.2710 - acc: 0.8992\n",
            "Epoch 6/15\n",
            "60000/60000 [==============================] - 13s 225us/sample - loss: 0.2565 - acc: 0.9056\n",
            "Epoch 7/15\n",
            "60000/60000 [==============================] - 13s 224us/sample - loss: 0.2456 - acc: 0.9090\n",
            "Epoch 8/15\n",
            "60000/60000 [==============================] - 13s 222us/sample - loss: 0.2349 - acc: 0.9111\n",
            "Epoch 9/15\n",
            "60000/60000 [==============================] - 13s 224us/sample - loss: 0.2250 - acc: 0.9155\n",
            "Epoch 10/15\n",
            "60000/60000 [==============================] - 14s 230us/sample - loss: 0.2157 - acc: 0.9181\n",
            "Epoch 11/15\n",
            "60000/60000 [==============================] - 13s 223us/sample - loss: 0.2088 - acc: 0.9219\n",
            "Epoch 12/15\n",
            "60000/60000 [==============================] - 13s 222us/sample - loss: 0.2009 - acc: 0.9242\n",
            "Epoch 13/15\n",
            "60000/60000 [==============================] - 13s 223us/sample - loss: 0.1943 - acc: 0.9272\n",
            "Epoch 14/15\n",
            "60000/60000 [==============================] - 13s 223us/sample - loss: 0.1874 - acc: 0.9301\n",
            "Epoch 15/15\n",
            "60000/60000 [==============================] - 13s 223us/sample - loss: 0.1823 - acc: 0.9306\n",
            "10000/10000 [==============================] - 1s 58us/sample - loss: 75.2985 - acc: 0.8733\n",
            "Tested Acc:  0.8733\n"
          ],
          "name": "stdout"
        }
      ]
    },
    {
      "cell_type": "code",
      "metadata": {
        "id": "mBbY9iFHWOLv",
        "colab_type": "code",
        "colab": {
          "base_uri": "https://localhost:8080/",
          "height": 1000
        },
        "outputId": "06f87efb-c5c0-4aad-8927-75954369e9bf"
      },
      "source": [
        "import matplotlib.pyplot as plt\n",
        "\n",
        "history = model.fit(train_images, train_labels, epochs=15, verbose=1)\n",
        "\n",
        "# Plot  accuracy values\n",
        "plt.plot(history.history['acc'])\n",
        "plt.title('Model accuracy')\n",
        "plt.ylabel('Accuracy')\n",
        "plt.xlabel('Epoch')\n",
        "plt.legend(['Train', 'Label'], loc='upper left')\n",
        "plt.show()"
      ],
      "execution_count": 75,
      "outputs": [
        {
          "output_type": "stream",
          "text": [
            "Train on 60000 samples\n",
            "Epoch 1/15\n",
            "60000/60000 [==============================] - 13s 223us/sample - loss: 0.1731 - acc: 0.9344\n",
            "Epoch 2/15\n",
            "60000/60000 [==============================] - 13s 223us/sample - loss: 0.1703 - acc: 0.9352\n",
            "Epoch 3/15\n",
            "60000/60000 [==============================] - 13s 223us/sample - loss: 0.1625 - acc: 0.9376\n",
            "Epoch 4/15\n",
            "60000/60000 [==============================] - 14s 225us/sample - loss: 0.1587 - acc: 0.9399\n",
            "Epoch 5/15\n",
            "60000/60000 [==============================] - 13s 222us/sample - loss: 0.1538 - acc: 0.9413\n",
            "Epoch 6/15\n",
            "60000/60000 [==============================] - 13s 224us/sample - loss: 0.1488 - acc: 0.9445\n",
            "Epoch 7/15\n",
            "60000/60000 [==============================] - 13s 224us/sample - loss: 0.1441 - acc: 0.9458\n",
            "Epoch 8/15\n",
            "60000/60000 [==============================] - 13s 224us/sample - loss: 0.1396 - acc: 0.9475\n",
            "Epoch 9/15\n",
            "60000/60000 [==============================] - 13s 222us/sample - loss: 0.1386 - acc: 0.9478\n",
            "Epoch 10/15\n",
            "60000/60000 [==============================] - 14s 231us/sample - loss: 0.1303 - acc: 0.9505\n",
            "Epoch 11/15\n",
            "60000/60000 [==============================] - 13s 225us/sample - loss: 0.1311 - acc: 0.9503\n",
            "Epoch 12/15\n",
            "60000/60000 [==============================] - 13s 220us/sample - loss: 0.1278 - acc: 0.9519\n",
            "Epoch 13/15\n",
            "60000/60000 [==============================] - 13s 222us/sample - loss: 0.1233 - acc: 0.9538\n",
            "Epoch 14/15\n",
            "60000/60000 [==============================] - 13s 222us/sample - loss: 0.1170 - acc: 0.9557\n",
            "Epoch 15/15\n",
            "60000/60000 [==============================] - 13s 223us/sample - loss: 0.1149 - acc: 0.9568\n"
          ],
          "name": "stdout"
        },
        {
          "output_type": "error",
          "ename": "KeyError",
          "evalue": "ignored",
          "traceback": [
            "\u001b[0;31m---------------------------------------------------------------------------\u001b[0m",
            "\u001b[0;31mKeyError\u001b[0m                                  Traceback (most recent call last)",
            "\u001b[0;32m<ipython-input-75-f0e4b0284f5c>\u001b[0m in \u001b[0;36m<module>\u001b[0;34m()\u001b[0m\n\u001b[1;32m      5\u001b[0m \u001b[0;31m# Plot training & validation accuracy values\u001b[0m\u001b[0;34m\u001b[0m\u001b[0;34m\u001b[0m\u001b[0;34m\u001b[0m\u001b[0m\n\u001b[1;32m      6\u001b[0m \u001b[0mplt\u001b[0m\u001b[0;34m.\u001b[0m\u001b[0mplot\u001b[0m\u001b[0;34m(\u001b[0m\u001b[0mhistory\u001b[0m\u001b[0;34m.\u001b[0m\u001b[0mhistory\u001b[0m\u001b[0;34m[\u001b[0m\u001b[0;34m'acc'\u001b[0m\u001b[0;34m]\u001b[0m\u001b[0;34m)\u001b[0m\u001b[0;34m\u001b[0m\u001b[0;34m\u001b[0m\u001b[0m\n\u001b[0;32m----> 7\u001b[0;31m \u001b[0mplt\u001b[0m\u001b[0;34m.\u001b[0m\u001b[0mplot\u001b[0m\u001b[0;34m(\u001b[0m\u001b[0mhistory\u001b[0m\u001b[0;34m.\u001b[0m\u001b[0mhistory\u001b[0m\u001b[0;34m[\u001b[0m\u001b[0;34m'val_acc'\u001b[0m\u001b[0;34m]\u001b[0m\u001b[0;34m)\u001b[0m\u001b[0;34m\u001b[0m\u001b[0;34m\u001b[0m\u001b[0m\n\u001b[0m\u001b[1;32m      8\u001b[0m \u001b[0mplt\u001b[0m\u001b[0;34m.\u001b[0m\u001b[0mtitle\u001b[0m\u001b[0;34m(\u001b[0m\u001b[0;34m'Model accuracy'\u001b[0m\u001b[0;34m)\u001b[0m\u001b[0;34m\u001b[0m\u001b[0;34m\u001b[0m\u001b[0m\n\u001b[1;32m      9\u001b[0m \u001b[0mplt\u001b[0m\u001b[0;34m.\u001b[0m\u001b[0mylabel\u001b[0m\u001b[0;34m(\u001b[0m\u001b[0;34m'Accuracy'\u001b[0m\u001b[0;34m)\u001b[0m\u001b[0;34m\u001b[0m\u001b[0;34m\u001b[0m\u001b[0m\n",
            "\u001b[0;31mKeyError\u001b[0m: 'val_acc'"
          ]
        },
        {
          "output_type": "display_data",
          "data": {
            "image/png": "[encoded data removed]",
            "text/plain": [
              "<Figure size 432x288 with 1 Axes>"
            ]
          },
          "metadata": {
            "tags": []
          }
        }
      ]
    },
    {
      "cell_type": "code",
      "metadata": {
        "id": "y9uGNKhxXf2S",
        "colab_type": "code",
        "colab": {
          "base_uri": "https://localhost:8080/",
          "height": 295
        },
        "outputId": "56aa3091-e928-4129-a53e-4b8203cff301"
      },
      "source": [
        "# Plot accuracy values\n",
        "plt.plot(history.history['acc'])\n",
        "plt.title('Model accuracy')\n",
        "plt.ylabel('Accuracy')\n",
        "plt.xlabel('Epoch')\n",
        "plt.legend(['Train'], loc='upper left')\n",
        "plt.show()"
      ],
      "execution_count": 77,
      "outputs": [
        {
          "output_type": "display_data",
          "data": {
            "image/png": "[encoded data removed]",
            "text/plain": [
              "<Figure size 432x288 with 1 Axes>"
            ]
          },
          "metadata": {
            "tags": []
          }
        }
      ]
    },
    {
      "cell_type": "markdown",
      "metadata": {
        "colab_type": "text",
        "id": "zv_3xNMjzdLI"
      },
      "source": [
        "## Stretch Goals:\n",
        "\n",
        "- Use Hyperparameter Tuning to make the accuracy of your models as high as possible. (error as low as possible)\n",
        "- Use Cross Validation techniques to get more consistent results with your model.\n",
        "- Use GridSearchCV to try different combinations of hyperparameters. \n",
        "- Start looking into other types of Keras layers for CNNs and RNNs maybe try and build a CNN model for fashion-MNIST to see how the results compare."
      ]
    },
    {
      "cell_type": "code",
      "metadata": {
        "id": "uwpv8OqZVRb0",
        "colab_type": "code",
        "colab": {}
      },
      "source": [
        ""
      ],
      "execution_count": 0,
      "outputs": []
    }
  ]
}